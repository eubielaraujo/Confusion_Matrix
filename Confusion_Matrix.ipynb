{
  "nbformat": 4,
  "nbformat_minor": 0,
  "metadata": {
    "colab": {
      "provenance": [],
      "authorship_tag": "ABX9TyPPLkbCMrTe3q9ILY1GcOYn",
      "include_colab_link": true
    },
    "kernelspec": {
      "name": "python3",
      "display_name": "Python 3"
    },
    "language_info": {
      "name": "python"
    }
  },
  "cells": [
    {
      "cell_type": "markdown",
      "metadata": {
        "id": "view-in-github",
        "colab_type": "text"
      },
      "source": [
        "<a href=\"https://colab.research.google.com/github/eubielaraujo/Confusion_Matrix/blob/main/Confusion_Matrix.ipynb\" target=\"_parent\"><img src=\"https://colab.research.google.com/assets/colab-badge.svg\" alt=\"Open In Colab\"/></a>"
      ]
    },
    {
      "cell_type": "code",
      "execution_count": 17,
      "metadata": {
        "id": "3xvLd2cCnsRO"
      },
      "outputs": [],
      "source": [
        "from tensorflow.keras import datasets, layers, models\n",
        "import matplotlib.pyplot as plt\n",
        "import tensorflow as tf\n",
        "import pandas as pd\n",
        "import numpy as np\n",
        "import seaborn as sns"
      ]
    },
    {
      "cell_type": "code",
      "source": [
        "(train_images, train_labels), (test_images, test_labels) = datasets.cifar10.load_data()\n",
        "\n",
        "# normalizar\n",
        "train_images, test_images = train_images / 255.0, test_images / 255.0\n",
        "\n",
        "# escolher classes (cat=3, dog=5)\n",
        "wished_class = [3, 5]\n",
        "\n",
        "# filtrar treino\n",
        "mask_train = np.isin(train_labels, wished_class).flatten()\n",
        "X_train = train_images[mask_train]\n",
        "y_train = train_labels[mask_train]\n",
        "\n",
        "# filtrar teste\n",
        "mask_test = np.isin(test_labels, wished_class).flatten()\n",
        "X_test = test_images[mask_test]\n",
        "y_test = test_labels[mask_test]\n",
        "\n",
        "# reatribuir rótulos (cat=0, dog=1)\n",
        "y_train = (y_train == 5).astype(int)\n",
        "y_test = (y_test == 5).astype(int)"
      ],
      "metadata": {
        "id": "kfyuri14u3AT"
      },
      "execution_count": 18,
      "outputs": []
    },
    {
      "cell_type": "code",
      "source": [
        "model = models.Sequential()\n",
        "model.add(layers.Conv2D(32, (3, 3), activation='relu', input_shape=(32, 32, 3)))\n",
        "model.add(layers.MaxPooling2D((2,2)))\n",
        "model.add(layers.Conv2D(64, (3, 3), activation='relu', input_shape=(32, 32, 3)))\n",
        "model.add(layers.MaxPooling2D((2,2)))\n",
        "model.add(layers.Conv2D(64, (3, 3), activation='relu', input_shape=(32, 32, 3)))\n",
        "\n",
        "model.add(layers.Flatten())\n",
        "model.add(layers.Dense(64, activation='relu'))\n",
        "model.add(layers.Dense(1, activation='sigmoid'))  # saída binária"
      ],
      "metadata": {
        "id": "1TWxRViPZgKz"
      },
      "execution_count": 19,
      "outputs": []
    },
    {
      "cell_type": "code",
      "source": [
        "model.compile(optimizer='adam',\n",
        "              loss='binary_crossentropy',\n",
        "              metrics=['accuracy'])\n",
        "\n",
        "model.fit(X_train,\n",
        "          y_train,\n",
        "          epochs=5,\n",
        "          validation_data=(X_test, y_test))"
      ],
      "metadata": {
        "colab": {
          "base_uri": "https://localhost:8080/"
        },
        "id": "EGx57H7W83sx",
        "outputId": "28591646-6e58-429b-c89b-d6aa2cc76d3f"
      },
      "execution_count": 20,
      "outputs": [
        {
          "output_type": "stream",
          "name": "stdout",
          "text": [
            "Epoch 1/5\n",
            "\u001b[1m313/313\u001b[0m \u001b[32m━━━━━━━━━━━━━━━━━━━━\u001b[0m\u001b[37m\u001b[0m \u001b[1m16s\u001b[0m 45ms/step - accuracy: 0.5484 - loss: 0.6813 - val_accuracy: 0.6425 - val_loss: 0.6339\n",
            "Epoch 2/5\n",
            "\u001b[1m313/313\u001b[0m \u001b[32m━━━━━━━━━━━━━━━━━━━━\u001b[0m\u001b[37m\u001b[0m \u001b[1m16s\u001b[0m 51ms/step - accuracy: 0.6610 - loss: 0.6180 - val_accuracy: 0.7040 - val_loss: 0.5546\n",
            "Epoch 3/5\n",
            "\u001b[1m313/313\u001b[0m \u001b[32m━━━━━━━━━━━━━━━━━━━━\u001b[0m\u001b[37m\u001b[0m \u001b[1m15s\u001b[0m 48ms/step - accuracy: 0.7230 - loss: 0.5491 - val_accuracy: 0.7085 - val_loss: 0.5469\n",
            "Epoch 4/5\n",
            "\u001b[1m313/313\u001b[0m \u001b[32m━━━━━━━━━━━━━━━━━━━━\u001b[0m\u001b[37m\u001b[0m \u001b[1m20s\u001b[0m 46ms/step - accuracy: 0.7410 - loss: 0.5187 - val_accuracy: 0.7130 - val_loss: 0.5537\n",
            "Epoch 5/5\n",
            "\u001b[1m313/313\u001b[0m \u001b[32m━━━━━━━━━━━━━━━━━━━━\u001b[0m\u001b[37m\u001b[0m \u001b[1m21s\u001b[0m 46ms/step - accuracy: 0.7636 - loss: 0.4890 - val_accuracy: 0.7375 - val_loss: 0.5160\n"
          ]
        },
        {
          "output_type": "execute_result",
          "data": {
            "text/plain": [
              "<keras.src.callbacks.history.History at 0x7f74e9fe0080>"
            ]
          },
          "metadata": {},
          "execution_count": 20
        }
      ]
    },
    {
      "cell_type": "code",
      "source": [
        "y_true = y_test.flatten()  # rótulos reais 0 ou 1\n",
        "y_pred = (model.predict(X_test) > 0.5).astype(\"int32\").flatten()  # previsões 0 ou 1\n",
        "\n",
        "cm = tf.math.confusion_matrix(labels=y_true, predictions=y_pred).numpy()\n",
        "\n",
        "cm_norm = cm.astype(\"float\") / cm.sum()"
      ],
      "metadata": {
        "id": "JVZX7wHbFAUQ",
        "colab": {
          "base_uri": "https://localhost:8080/"
        },
        "outputId": "4866ede2-4b17-4220-e633-a125c91c66e0"
      },
      "execution_count": 55,
      "outputs": [
        {
          "output_type": "stream",
          "name": "stdout",
          "text": [
            "\u001b[1m63/63\u001b[0m \u001b[32m━━━━━━━━━━━━━━━━━━━━\u001b[0m\u001b[37m\u001b[0m \u001b[1m1s\u001b[0m 20ms/step\n"
          ]
        }
      ]
    },
    {
      "cell_type": "code",
      "source": [
        "# Visualizar a matriz de confusão\n",
        "plt.figure(figsize=(6, 6))\n",
        "sns.heatmap(cm_norm, annot=True, cmap='Oranges',\n",
        "              xticklabels=['Gato', 'Cachorro'],\n",
        "              yticklabels=['Gato', 'Cachorro'])\n",
        "plt.xlabel('Classe Prevista')\n",
        "plt.ylabel('Classe Verdadeira')\n",
        "plt.title('Matriz de Confusão - Gato vs Cachorro')\n",
        "plt.show()"
      ],
      "metadata": {
        "colab": {
          "base_uri": "https://localhost:8080/",
          "height": 564
        },
        "id": "vf_y5yPgPy7R",
        "outputId": "abacce95-e81f-4c4d-bdc9-a9d28014af2a"
      },
      "execution_count": 63,
      "outputs": [
        {
          "output_type": "display_data",
          "data": {
            "text/plain": [
              "<Figure size 600x600 with 2 Axes>"
            ],
            "image/png": "[encoded data removed]"
          },
          "metadata": {}
        }
      ]
    },
    {
      "cell_type": "code",
      "source": [
        "sens = cm[0,0] / (cm[0,0] + cm[0,1])\n",
        "esp = cm[1,1] / (cm[1,0] + cm[1,1])\n",
        "acc = (cm[0,0] + cm[1,1]) / (cm[0,0] + cm[0,1] + cm[1,0] + cm[1,1])\n",
        "prec = cm[0,0] / (cm[0,0] + cm[1,0])\n",
        "f1 = 2 * (prec * sens) / (prec + sens)\n",
        "\n",
        "print(f\"Sensibilidade: {sens} \\nEspecificidade: {esp} \\nAcurácia: {acc} \\nPrecisão: {prec} \\nF-score: {f1}\")\n",
        "\n"
      ],
      "metadata": {
        "id": "SsI-2tRxRyB-",
        "colab": {
          "base_uri": "https://localhost:8080/"
        },
        "outputId": "96d6eac0-2e10-4843-8522-2f77124c898a"
      },
      "execution_count": 64,
      "outputs": [
        {
          "output_type": "stream",
          "name": "stdout",
          "text": [
            "Sensibilidade: 0.755 \n",
            "Especificidade: 0.72 \n",
            "Acurácia: 0.7375 \n",
            "Precisão: 0.7294685990338164 \n",
            "F-score: 0.742014742014742\n"
          ]
        }
      ]
    },
    {
      "cell_type": "code",
      "source": [],
      "metadata": {
        "id": "BOz0VIFDAUX4"
      },
      "execution_count": 1,
      "outputs": []
    }
  ]
}